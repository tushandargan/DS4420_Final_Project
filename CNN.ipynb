{
 "cells": [
  {
   "cell_type": "markdown",
   "metadata": {},
   "source": [
    "Joel Rosen & Tushan Dargan \n",
    "DS4420 Final Project\n",
    "\n",
    "Problem:\n",
    "Using Time-Series modelling methods to compare Various Industries"
   ]
  },
  {
   "cell_type": "markdown",
   "metadata": {},
   "source": []
  }
 ],
 "metadata": {
  "language_info": {
   "name": "python"
  }
 },
 "nbformat": 4,
 "nbformat_minor": 2
}
